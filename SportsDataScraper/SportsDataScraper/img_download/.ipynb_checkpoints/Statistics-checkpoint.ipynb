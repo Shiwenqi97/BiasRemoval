{
 "cells": [
  {
   "cell_type": "code",
   "execution_count": 28,
   "metadata": {},
   "outputs": [],
   "source": [
    "import cv2\n",
    "subscription_key = 'dcce5ed801984189ba69772c802b85b4'\n",
    "assert subscription_key\n",
    "face_api_url = 'https://westcentralus.api.cognitive.microsoft.com/face/v1.0/detect'\n",
    "image = cv2.imread('./images/Shoaib Akhtar_M_43.jpg')\n",
    "resized_image = cv2.resize(image,(192, 192), interpolation = cv2.INTER_CUBIC)\n",
    "cv2.imwrite('./images/resizedshoaib.jpg',resized_image)\n",
    "data = open('./images/resizedshoaib.jpg', 'rb')"
   ]
  },
  {
   "cell_type": "code",
   "execution_count": 33,
   "metadata": {},
   "outputs": [],
   "source": [
    "import urllib\n",
    "\n",
    "\n",
    "def download_img_and_resize(img_url, file_name):\n",
    "    full_path = './images_cricbuzz_clean/new_image.jpg'\n",
    "    print(\"Saving in \",full_path)\n",
    "    encoded_url = urllib.parse.quote(img_url)\n",
    "    encoded_url = encoded_url.replace(\"%3A\",\":\")\n",
    "    print(encoded_url)\n",
    "    new_img = urllib.request.urlretrieve(encoded_url,full_path)\n",
    "    image = cv2.imread(full_path)\n",
    "    resized_image = cv2.resize(image,(192, 192), interpolation = cv2.INTER_CUBIC)\n",
    "    cv2.imwrite('fullpath',resized_image)"
   ]
  },
  {
   "cell_type": "code",
   "execution_count": 34,
   "metadata": {},
   "outputs": [
    {
     "name": "stdout",
     "output_type": "stream",
     "text": [
      "Saving in  ./images_cricbuzz_clean/new_image.jpg\n",
      "https://www.cricbuzz.com/stats/img/faceImages/30.jpg\n",
      "<class 'tuple'>\n"
     ]
    }
   ],
   "source": [
    "img_url = 'https://www.cricbuzz.com/stats/img/faceImages/30.jpg'\n",
    "file_name = \"\"\n",
    "download_img_and_resize(img_url, file_name)\n",
    "    "
   ]
  },
  {
   "cell_type": "code",
   "execution_count": 29,
   "metadata": {},
   "outputs": [
    {
     "data": {
      "text/html": [
       "<font size=5>Detected <font color='blue'>1</font> faces in the image</font>"
      ],
      "text/plain": [
       "<IPython.core.display.HTML object>"
      ]
     },
     "execution_count": 29,
     "metadata": {},
     "output_type": "execute_result"
    }
   ],
   "source": [
    "import requests\n",
    "from IPython.display import HTML\n",
    "\n",
    "headers = { 'Content-Type': 'application/octet-stream',\n",
    "           'Ocp-Apim-Subscription-Key': subscription_key }\n",
    "    \n",
    "params = {\n",
    "    'returnFaceId': 'true',\n",
    "    'returnFaceLandmarks': 'false',\n",
    "    'returnFaceAttributes': 'age',\n",
    "}\n",
    "\n",
    "response = requests.post(face_api_url, params=params, headers=headers, data=data)\n",
    "faces = response.json()\n",
    "HTML(\"<font size=5>Detected <font color='blue'>%d</font> faces in the image</font>\"%len(faces))"
   ]
  },
  {
   "cell_type": "code",
   "execution_count": 30,
   "metadata": {},
   "outputs": [
    {
     "data": {
      "text/plain": [
       "[{'faceId': 'a32c4b38-ffb6-4d8a-be45-8d2e06498687',\n",
       "  'faceRectangle': {'top': 49, 'left': 70, 'width': 89, 'height': 89},\n",
       "  'faceAttributes': {'age': 38.0}}]"
      ]
     },
     "execution_count": 30,
     "metadata": {},
     "output_type": "execute_result"
    }
   ],
   "source": [
    "faces"
   ]
  },
  {
   "cell_type": "code",
   "execution_count": null,
   "metadata": {},
   "outputs": [],
   "source": []
  }
 ],
 "metadata": {
  "kernelspec": {
   "display_name": "Python 3",
   "language": "python",
   "name": "python3"
  },
  "language_info": {
   "codemirror_mode": {
    "name": "ipython",
    "version": 3
   },
   "file_extension": ".py",
   "mimetype": "text/x-python",
   "name": "python",
   "nbconvert_exporter": "python",
   "pygments_lexer": "ipython3",
   "version": "3.7.0"
  }
 },
 "nbformat": 4,
 "nbformat_minor": 2
}
