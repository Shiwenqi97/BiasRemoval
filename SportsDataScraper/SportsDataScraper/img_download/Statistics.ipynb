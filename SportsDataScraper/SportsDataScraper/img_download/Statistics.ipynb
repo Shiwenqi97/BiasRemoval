{
 "cells": [
  {
   "cell_type": "code",
   "execution_count": 22,
   "metadata": {},
   "outputs": [],
   "source": [
    "import numpy as np\n",
    "import matplotlib.pyplot as plt\n",
    "import json\n",
    "import os\n",
    "\n",
    "\n",
    "a = np.random.randint(low=0, high=100, size=50)\n",
    "b = np.random.randint(low=50, high=100, size=50)\n",
    "bins_list = [0, 10, 20, 30, 40,50,60,70,80,90,100]"
   ]
  },
  {
   "cell_type": "code",
   "execution_count": 42,
   "metadata": {},
   "outputs": [],
   "source": [
    "with open('../../sports_cleaned_cricau_predicted_gender.json') as f:\n",
    "    content = f.readlines()\n",
    "    content = [x.strip() for x in content]"
   ]
  },
  {
   "cell_type": "code",
   "execution_count": 47,
   "metadata": {},
   "outputs": [
    {
     "name": "stdout",
     "output_type": "stream",
     "text": [
      "Chucking this item {'name': 'kelly-armstrong', 'age': 'TBD', 'gender': 'F', 'img_url': 'https://www.cricket.com.au/-/media/Players/Women/Domestic/Breezair SA Scorpions/WNCL18/Kelly-Armstrong-WNCL18.ashx', 'predicted_age': 'TBD', 'predicted_gender': 'F'}\n",
      "Chucking this item {'name': 'max-bryant', 'age': 'TBD', 'gender': 'M', 'img_url': 'https://www.cricket.com.au/-/media/Players/Men/Domestic/QLD Bulls/Max-Bryant-JLT18.ashx', 'predicted_age': 'TBD', 'predicted_gender': 'M'}\n",
      "619\n",
      "314\n"
     ]
    }
   ],
   "source": [
    "male_ages = []\n",
    "female_ages = []\n",
    "for item_str in content:\n",
    "    item = json.loads(item_str)\n",
    "    if ((item['age'] == 'TBD' and item['predicted_age'] == \"TBD\" ) or \n",
    "        (item['age'] == 'TBD' and item['predicted_gender'] == \"TBD\" )):\n",
    "        print(\"Chucking this item\",item)\n",
    "    elif item['predicted_gender'] == \"M\" and item['gender']:\n",
    "        male_ages.append(int(float(item['age'])))\n",
    "    elif item['predicted_gender'] == \"F\":\n",
    "        female_ages.append(int(float(item['predicted_age'])))\n",
    "        \n",
    "print (len(male_ages))\n",
    "print (len(female_ages))"
   ]
  },
  {
   "cell_type": "code",
   "execution_count": 49,
   "metadata": {
    "scrolled": true
   },
   "outputs": [
    {
     "data": {
      "image/png": "[encoded data removed]",
      "text/plain": [
       "<Figure size 432x288 with 1 Axes>"
      ]
     },
     "metadata": {
      "needs_background": "light"
     },
     "output_type": "display_data"
    }
   ],
   "source": [
    "plt.hist(male_ages, bins=10,histtype='step')  # arguments are passed to np.histogram\n",
    "plt.hist(female_ages, bins=10,histtype='step')\n",
    "plt.show()"
   ]
  },
  {
   "cell_type": "code",
   "execution_count": null,
   "metadata": {},
   "outputs": [],
   "source": []
  }
 ],
 "metadata": {
  "kernelspec": {
   "display_name": "Python 3",
   "language": "python",
   "name": "python3"
  },
  "language_info": {
   "codemirror_mode": {
    "name": "ipython",
    "version": 3
   },
   "file_extension": ".py",
   "mimetype": "text/x-python",
   "name": "python",
   "nbconvert_exporter": "python",
   "pygments_lexer": "ipython3",
   "version": "3.7.0"
  }
 },
 "nbformat": 4,
 "nbformat_minor": 2
}
