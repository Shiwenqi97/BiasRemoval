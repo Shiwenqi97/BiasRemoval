{
 "cells": [
  {
   "cell_type": "code",
   "execution_count": 49,
   "metadata": {},
   "outputs": [],
   "source": [
    "import numpy as np\n",
    "import json\n",
    "import os\n",
    "import matplotlib.pyplot as plt\n",
    "import urllib.request\n",
    "import urllib.parse\n",
    "import csv\n",
    "from matplotlib.patches import Rectangle"
   ]
  },
  {
   "cell_type": "code",
   "execution_count": 40,
   "metadata": {},
   "outputs": [],
   "source": [
    "def Sampler(data,male_age_low=16,male_age_high=70,female_age_low=16,female_age_high=47):\n",
    "    csv_contents_image_gender = []\n",
    "    csv_contents_image_gender_complement = []\n",
    "    csv_contents_image_age = []\n",
    "    csv_contents_image_age_complement = []\n",
    "    \n",
    "    for item in data:\n",
    "        img_url = item['img_url']\n",
    "        file_name = item['name'] + '_' + item['final_gender'] + '_' + str(item['final_age']) + '.jpg'\n",
    "        file_name_partial = 'FinalData/Images/' + file_name\n",
    "        age = item['final_age']\n",
    "        if (item['gender'] == 'M'):\n",
    "            gender = \"male\"\n",
    "        elif (item['gender'] == 'F'):\n",
    "            gender = \"female\"\n",
    "        partial_entry_file_gender = {'name' : file_name_partial, 'gender' : gender}\n",
    "        partial_entry_file_age = {'name' : file_name_partial, 'age' : age}\n",
    "        \n",
    "        if (gender == \"male\" and age >= male_age_low and age <= male_age_high) or (gender == \"female\" and age >= female_age_low and age <= female_age_high):\n",
    "            csv_contents_image_gender.append(partial_entry_file_gender)\n",
    "            csv_contents_image_age.append(partial_entry_file_age)\n",
    "        else:\n",
    "            csv_contents_image_gender_complement.append(partial_entry_file_gender)\n",
    "            csv_contents_image_age_complement.append(partial_entry_file_age)\n",
    "            \n",
    "    return csv_contents_image_gender,csv_contents_image_age, csv_contents_image_gender_complement,csv_contents_image_age_complement"
   ]
  },
  {
   "cell_type": "code",
   "execution_count": 70,
   "metadata": {},
   "outputs": [],
   "source": [
    "def stats(csv_contents_image_age,csv_contents_image_gender):\n",
    "    print(\"total entries\",len(csv_contents_image_age))\n",
    "    countmale = []\n",
    "    countfemale = []\n",
    "    for item in zip(csv_contents_image_age, csv_contents_image_gender):\n",
    "        if item[1]['gender'] == \"male\":\n",
    "            countmale.append(item[0]['age'])\n",
    "        else:\n",
    "            countfemale.append(item[0]['age'])\n",
    "    print(\"Number of males in this age group\",len(countmale))\n",
    "    print(\"Number of females in this age group\",len(countfemale))\n",
    "    if countmale == countfemale:\n",
    "        colors = ['orange', 'orange']\n",
    "    else:\n",
    "        colors = ['blue', 'orange']\n",
    "    labels = ['males','females']\n",
    "    plt.title(\"Histogram of age differentiated on frequency in each bin per gender\")\n",
    "    plt.xlabel(\"Age\")\n",
    "    plt.ylabel(\"Frequency\")\n",
    "    plt.hist(countmale, bins=60,histtype='step',color=colors[0])  # arguments are passed to np.histogram\n",
    "    plt.hist(countfemale, bins=60,histtype='step',color=colors[1])\n",
    "    plt.legend(labels)\n",
    "    plt.show()\n",
    "    \n",
    "def csv_write(dictobj,filename):\n",
    "    keys = dictobj[0].keys()\n",
    "    with open(filename, 'w') as output_file:\n",
    "        dict_writer = csv.DictWriter(output_file, keys)\n",
    "        dict_writer.writeheader()\n",
    "        dict_writer.writerows(dictobj)"
   ]
  },
  {
   "cell_type": "code",
   "execution_count": 69,
   "metadata": {},
   "outputs": [
    {
     "name": "stdout",
     "output_type": "stream",
     "text": [
      "total entries 1499\n",
      "Number of males in this age group 1017\n",
      "Number of females in this age group 482\n"
     ]
    },
    {
     "data": {
      "image/png": "[encoded data removed]",
      "text/plain": [
       "<Figure size 432x288 with 1 Axes>"
      ]
     },
     "metadata": {
      "needs_background": "light"
     },
     "output_type": "display_data"
    }
   ],
   "source": [
    "csv_contents_image_gender = []\n",
    "csv_contents_image_age = []\n",
    "csv_contents_image_gender_complement = []\n",
    "csv_contents_image_age_complement = []\n",
    "with open('./sports_final.json') as f:\n",
    "    data = json.load(f)\n",
    "    #Get the extreme biased data\n",
    "    csv_contents_image_gender,csv_contents_image_age,csv_contents_image_gender_complement,csv_contents_image_age_complement = Sampler(data,male_age_low=40,male_age_high=70,female_age_low=16,female_age_high=35)\n",
    "    #csv_contents_image_gender,csv_contents_image_age,csv_contents_image_gender_complement,csv_contents_image_age_complement = Sampler(data)\n",
    "    stats(csv_contents_image_age,csv_contents_image_gender)\n",
    "    #csv_write(csv_contents_image_gender,'./sports_clean_gender_list_extreme_biased.csv')\n",
    "    #csv_write(csv_contents_image_age,'./sports_clean_age_list_extreme_biased.csv')\n",
    "    #csv_write(csv_contents_image_gender_complement,'./sports_clean_gender_list_complement_extreme_biased.csv')\n",
    "    #csv_write(csv_contents_image_age_complement,'./sports_clean_age_list_complement_extreme_biased.csv')\n",
    "    \n",
    "    \n",
    "    "
   ]
  },
  {
   "cell_type": "code",
   "execution_count": 71,
   "metadata": {},
   "outputs": [
    {
     "name": "stdout",
     "output_type": "stream",
     "text": [
      "total entries 956\n",
      "Number of males in this age group 478\n",
      "Number of females in this age group 478\n"
     ]
    },
    {
     "data": {
      "image/png": "[encoded data removed]",
      "text/plain": [
       "<Figure size 432x288 with 1 Axes>"
      ]
     },
     "metadata": {
      "needs_background": "light"
     },
     "output_type": "display_data"
    }
   ],
   "source": [
    "def balance_set(csv_contents_image_gender,csv_contents_image_age,age_low,age_high):\n",
    "    csv_contents_image_gender_balanced = []\n",
    "    csv_contents_image_age_balanced = []\n",
    "    final_dict = []\n",
    "    for age in range(age_low,age_high+1):\n",
    "        age_list = []\n",
    "        for index, item in enumerate(zip(csv_contents_image_age, csv_contents_image_gender)):\n",
    "            if item[0]['age'] == age:\n",
    "                age_list.append(item[1])\n",
    "        dict_item = {age:age_list}\n",
    "        if len(age_list) > 0:\n",
    "            male_list = []\n",
    "            female_list = []\n",
    "            for entry in age_list:\n",
    "                if entry['gender'] == \"male\":\n",
    "                    male_list.append(entry)\n",
    "                else:\n",
    "                    female_list.append(entry)\n",
    "            balanced_range = min(len(male_list),len(female_list))\n",
    "            \n",
    "            for j in range(balanced_range):\n",
    "                csv_contents_image_gender_balanced.append(male_list[j])\n",
    "                csv_contents_image_gender_balanced.append(female_list[j])\n",
    "                \n",
    "                partial_entry_file_age_male = {'name' : male_list[j]['name'], 'age' : age}\n",
    "                partial_entry_file_age_female = {'name' : female_list[j]['name'], 'age' : age}\n",
    "                \n",
    "                csv_contents_image_age_balanced.append(partial_entry_file_age_male)\n",
    "                csv_contents_image_age_balanced.append(partial_entry_file_age_female)\n",
    "    \n",
    "    return csv_contents_image_gender_balanced,csv_contents_image_age_balanced\n",
    "\n",
    "csv_contents_image_gender = []\n",
    "csv_contents_image_age = []\n",
    "csv_contents_image_gender_complement = []\n",
    "csv_contents_image_age_complement = []\n",
    "with open('./sports_final.json') as f:\n",
    "    data = json.load(f)\n",
    "    #Get the balanced data\n",
    "    csv_contents_image_gender,csv_contents_image_age,csv_contents_image_gender_complement,csv_contents_image_age_complement = Sampler(data,male_age_low=16,male_age_high=35,female_age_low=16,female_age_high=35)\n",
    "    csv_contents_image_gender,csv_contents_image_age = balance_set(csv_contents_image_gender,csv_contents_image_age,17,35)\n",
    "    stats(csv_contents_image_age,csv_contents_image_gender)\n",
    "    csv_write(csv_contents_image_gender,'./sports_clean_gender_list_balanced.csv')\n",
    "    csv_write(csv_contents_image_age,'./sports_clean_age_list_balanced.csv')"
   ]
  },
  {
   "cell_type": "code",
   "execution_count": null,
   "metadata": {},
   "outputs": [],
   "source": []
  }
 ],
 "metadata": {
  "kernelspec": {
   "display_name": "Python 3",
   "language": "python",
   "name": "python3"
  },
  "language_info": {
   "codemirror_mode": {
    "name": "ipython",
    "version": 3
   },
   "file_extension": ".py",
   "mimetype": "text/x-python",
   "name": "python",
   "nbconvert_exporter": "python",
   "pygments_lexer": "ipython3",
   "version": "3.7.0"
  }
 },
 "nbformat": 4,
 "nbformat_minor": 2
}
