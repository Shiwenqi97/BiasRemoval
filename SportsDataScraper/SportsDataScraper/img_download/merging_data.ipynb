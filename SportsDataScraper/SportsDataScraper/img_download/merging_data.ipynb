{
 "cells": [
  {
   "cell_type": "code",
   "execution_count": 48,
   "metadata": {},
   "outputs": [],
   "source": [
    "import numpy as np\n",
    "import json\n",
    "import os\n",
    "import matplotlib.pyplot as plt\n",
    "import urllib.request\n",
    "import urllib.parse\n",
    "import csv\n"
   ]
  },
  {
   "cell_type": "code",
   "execution_count": 23,
   "metadata": {},
   "outputs": [],
   "source": [
    "def fix_gender_errors(content):\n",
    "    spurious_records_gender = []\n",
    "    good_records_gender = []\n",
    "    for item_str in content:\n",
    "        item = json.loads(item_str)\n",
    "        if (item['gender'] != item['predicted_gender']):\n",
    "            spurious_records_gender.append(item)\n",
    "        else:\n",
    "            item['final_gender'] = item['gender']\n",
    "            good_records_gender.append(item)\n",
    "    return good_records_gender,spurious_records_gender\n",
    "\n",
    "def removeTBDs(content):\n",
    "    spurious_records = []\n",
    "    good_records = []\n",
    "    for item in content:\n",
    "        if (item['age'] == 'TBD' and item['predicted_age'] == 'TBD'):\n",
    "            spurious_records.append(item)\n",
    "        elif item['age'] == 'TBD':\n",
    "            item['final_age'] = int(float(item['predicted_age']))\n",
    "            good_records.append(item)\n",
    "        elif item['predicted_gender'] =='TBD':\n",
    "            item['final_age'] = int(float(item['age']))\n",
    "            good_records.append(item)\n",
    "        elif (item['age'] != 'TBD' and item['predicted_age'] != 'TBD'):\n",
    "            age = int(float(item['age']))\n",
    "            predicted_age = int(float(item['predicted_age']))\n",
    "            if predicted_age < 16:\n",
    "                item['final_age'] = age\n",
    "            elif abs(age-predicted_age) <= 5 :\n",
    "                item['final_age'] = (age + predicted_age)//2\n",
    "            elif abs(age-predicted_age) > 5 :\n",
    "                #Take the younger one\n",
    "                item['final_age'] = min(age,predicted_age)\n",
    "            good_records.append(item)\n",
    "    \n",
    "    for item in good_records:\n",
    "        if (item['final_age'] > 70):\n",
    "            spurious_records.append(item)\n",
    "            good_records.remove(item)\n",
    "    return good_records,spurious_records"
   ]
  },
  {
   "cell_type": "code",
   "execution_count": 24,
   "metadata": {},
   "outputs": [],
   "source": [
    "#First do gender fixes on cricbuzz\n",
    "with open('../../sports_cleaned_predicted.json') as f:\n",
    "    content = f.readlines()\n",
    "    content = [x.strip() for x in content]\n",
    "    good_records_gender_cricbuzz,spurious_records_gender_cricbuzz = fix_gender_errors(content)\n",
    "#Next do gender fixes on cricau\n",
    "with open('../../sports_cleaned_cricau_predicted.json') as f:\n",
    "    content = f.readlines()\n",
    "    content = [x.strip() for x in content]\n",
    "    good_records_gender_cricau,spurious_records_gender_cricau = fix_gender_errors(content)"
   ]
  },
  {
   "cell_type": "code",
   "execution_count": 25,
   "metadata": {},
   "outputs": [],
   "source": [
    "#Remove ages where both predicted and original ages are TBD\n",
    "good_records_tbd_removed_cricbuzz,spurious_records_tbd_cricbuzz = removeTBDs(good_records_gender_cricbuzz)\n",
    "good_records_tbd_removed_cricau,spurious_records_tbd_cricau = removeTBDs(good_records_gender_cricau)\n",
    "final_list = good_records_tbd_removed_cricbuzz + good_records_tbd_removed_cricau"
   ]
  },
  {
   "cell_type": "code",
   "execution_count": 26,
   "metadata": {},
   "outputs": [
    {
     "data": {
      "image/png": "[encoded data removed]",
      "text/plain": [
       "<Figure size 432x288 with 1 Axes>"
      ]
     },
     "metadata": {
      "needs_background": "light"
     },
     "output_type": "display_data"
    }
   ],
   "source": [
    "countmale = []\n",
    "countfemale = []\n",
    "for item in final_list:\n",
    "    if item['final_gender'] == \"M\":\n",
    "        countmale.append(item['final_age'])\n",
    "    else:\n",
    "        countfemale.append(item['final_age'])\n",
    "plt.hist(countmale, bins=60,histtype='step')  # arguments are passed to np.histogram\n",
    "plt.hist(countfemale, bins=60,histtype='step')\n",
    "plt.show()"
   ]
  },
  {
   "cell_type": "code",
   "execution_count": 28,
   "metadata": {},
   "outputs": [
    {
     "name": "stdout",
     "output_type": "stream",
     "text": [
      "Range of Male Ages\n",
      "70\n",
      "16\n",
      "Range of Female Ages\n",
      "47\n",
      "16\n"
     ]
    }
   ],
   "source": [
    "max_value = max(countmale)\n",
    "min_value = min(countmale)\n",
    "print (\"Range of Male Ages\")\n",
    "print(max_value)\n",
    "print(min_value)\n",
    "\n",
    "print (\"Range of Female Ages\")\n",
    "max_value = max(countfemale)\n",
    "min_value = min(countfemale)\n",
    "print(max_value)\n",
    "print(min_value)"
   ]
  },
  {
   "cell_type": "code",
   "execution_count": 33,
   "metadata": {},
   "outputs": [],
   "source": [
    "os.makedirs(\"FinalData\")\n",
    "with open('./FinalData/sports_final.json', 'w') as outfile:\n",
    "    json.dump(final_list, outfile)"
   ]
  },
  {
   "cell_type": "code",
   "execution_count": 41,
   "metadata": {},
   "outputs": [],
   "source": [
    "#Generate the images as they are\n",
    "def download_img(img_url, file_name):\n",
    "    full_path = './FinalData/Images/' + file_name\n",
    "    encoded_url = urllib.parse.quote(img_url)\n",
    "    encoded_url = encoded_url.replace(\"%3A\",\":\")\n",
    "    urllib.request.urlretrieve(encoded_url,full_path)\n",
    "\n",
    "os.makedirs(\"FinalData/Images\")\n",
    "csv_contents_image_gender = []\n",
    "csv_contents_image_age = []\n",
    "with open('./FinalData/sports_final.json') as f:\n",
    "    data = json.load(f)\n",
    "    for item in data:\n",
    "        img_url = item['img_url']\n",
    "        file_name = item['name'] + '_' + item['final_gender'] + '_' + str(item['final_age']) + '.jpg'\n",
    "        download_img(img_url,file_name)\n",
    "        file_name_partial = 'Images/' + file_name\n",
    "        age = item['final_age']\n",
    "        if (item['gender'] == 'M'):\n",
    "            gender = \"male\"\n",
    "        elif (item['gender'] == 'F'):\n",
    "            gender = \"female\"\n",
    "        partial_entry_file_gender = {'name' : file_name_partial, 'gender' : gender}\n",
    "        partial_entry_file_age = {'name' : file_name_partial, 'age' : age}\n",
    "        csv_contents_image_gender.append(partial_entry_file_gender)\n",
    "        csv_contents_image_age.append(partial_entry_file_age)\n"
   ]
  },
  {
   "cell_type": "code",
   "execution_count": 56,
   "metadata": {},
   "outputs": [
    {
     "name": "stdout",
     "output_type": "stream",
     "text": [
      "dict_keys(['name', 'gender'])\n",
      "dict_keys(['name', 'age'])\n"
     ]
    }
   ],
   "source": [
    "def csv_write(dictobj,filename):\n",
    "    keys = dictobj[0].keys()\n",
    "    print (keys)\n",
    "    with open(filename, 'w') as output_file:\n",
    "        dict_writer = csv.DictWriter(output_file, keys)\n",
    "        dict_writer.writeheader()\n",
    "        dict_writer.writerows(dictobj)\n",
    "\n",
    "csv_write(csv_contents_image_gender,'FinalData/sports_clean_gender_list.csv')\n",
    "csv_write(csv_contents_image_age,'FinalData/sports_clean_age_list.csv')\n",
    "# for dictObject in csv_contents_image_age:\n",
    "#     csv_write(dictObj,'FinalData/sports_clean_age_list.csv')"
   ]
  }
 ],
 "metadata": {
  "kernelspec": {
   "display_name": "Python 3",
   "language": "python",
   "name": "python3"
  },
  "language_info": {
   "codemirror_mode": {
    "name": "ipython",
    "version": 3
   },
   "file_extension": ".py",
   "mimetype": "text/x-python",
   "name": "python",
   "nbconvert_exporter": "python",
   "pygments_lexer": "ipython3",
   "version": "3.7.0"
  }
 },
 "nbformat": 4,
 "nbformat_minor": 2
}
