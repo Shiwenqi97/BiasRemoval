{
 "cells": [
  {
   "cell_type": "code",
   "execution_count": 1,
   "metadata": {},
   "outputs": [
    {
     "data": {
      "text/plain": [
       "'\\nGOALS\\n1. To be able to load the saved weights. \\n2. Run the gender dataset through the network.\\n3. Save the final feature representation for\\n   every input image. (128 dimensional vector)\\n4. Take the feature representation and the gender\\n   label and map it down to a 2-D space using t-SNE\\n5. Do this for every image in the dataset.\\n'"
      ]
     },
     "execution_count": 1,
     "metadata": {},
     "output_type": "execute_result"
    }
   ],
   "source": [
    "'''\n",
    "GOALS\n",
    "1. To be able to load the saved weights. \n",
    "2. Run the gender dataset through the network.\n",
    "3. Save the final feature representation for\n",
    "   every input image. (128 dimensional vector)\n",
    "4. Take the feature representation and the gender\n",
    "   label and map it down to a 2-D space using t-SNE\n",
    "5. Do this for every image in the dataset.\n",
    "'''"
   ]
  },
  {
   "cell_type": "code",
   "execution_count": 2,
   "metadata": {},
   "outputs": [],
   "source": [
    "import tensorflow as tf\n",
    "import numpy as np\n",
    "import matplotlib.pyplot as plt\n",
    "import pandas as pd\n",
    "import os\n",
    "import shutil\n",
    "from math import ceil\n",
    "from tensorflow.python.tools.inspect_checkpoint import print_tensors_in_checkpoint_file\n",
    "%matplotlib inline\n",
    "import csv"
   ]
  },
  {
   "cell_type": "code",
   "execution_count": 3,
   "metadata": {},
   "outputs": [],
   "source": [
    "#os.environ[\"CUDA_VISIBLE_DEVICES\"]=\"0\"\n",
    "tf.reset_default_graph()"
   ]
  },
  {
   "cell_type": "code",
   "execution_count": 4,
   "metadata": {},
   "outputs": [],
   "source": [
    "def FindAgeRange(csvfile):\n",
    "    df = pd.read_csv(csvfile)\n",
    "    return (df['age'].min(), df['age'].max())"
   ]
  },
  {
   "cell_type": "code",
   "execution_count": 5,
   "metadata": {},
   "outputs": [],
   "source": [
    "CSV = \"gen_list_balanced.csv\""
   ]
  },
  {
   "cell_type": "code",
   "execution_count": 6,
   "metadata": {},
   "outputs": [],
   "source": [
    "# Model Parameters\n",
    "IMG_SIZE      = [96, 96]\n",
    "BATCH_SIZE    = 32\n",
    "LEARNING_RATE = 0.001\n",
    "\n",
    "# For gender classification\n",
    "NUM_CLASSES_GEN = 2\n",
    "NUM_CLASSES_AGE = 14"
   ]
  },
  {
   "cell_type": "code",
   "execution_count": 7,
   "metadata": {},
   "outputs": [],
   "source": [
    "def ReadImages(elem):\n",
    "    filename = elem[\"name\"][0]\n",
    "    image_string = tf.read_file(filename)\n",
    "    image_decoded = tf.image.decode_jpeg(image_string, channels=3)\n",
    "    image = tf.cast(image_decoded, tf.uint8)\n",
    "    image = tf.image.resize_images(image, IMG_SIZE)\n",
    "    elem[\"name\"] = image\n",
    "    return elem"
   ]
  },
  {
   "cell_type": "code",
   "execution_count": 8,
   "metadata": {},
   "outputs": [],
   "source": [
    "def AgeLabelFunc(elem):\n",
    "    label = elem[\"age\"][0]\n",
    "    label = (label-AGE_MIN)//BIN_SIZE\n",
    "    elem[\"age\"] = label\n",
    "    return elem"
   ]
  },
  {
   "cell_type": "code",
   "execution_count": 9,
   "metadata": {},
   "outputs": [],
   "source": [
    "def GenderLabelFunc(elem):\n",
    "    elem[\"gender\"] = elem[\"gender\"][0]\n",
    "    return elem"
   ]
  },
  {
   "cell_type": "code",
   "execution_count": 10,
   "metadata": {},
   "outputs": [],
   "source": [
    "def SetDatasetParams(dataset, size):\n",
    "    dataset = dataset.batch(BATCH_SIZE)\n",
    "    dataset = dataset.prefetch(1)\n",
    "    dataset = dataset.shuffle(size)\n",
    "    dataset = dataset.repeat()\n",
    "    return dataset"
   ]
  },
  {
   "cell_type": "code",
   "execution_count": 11,
   "metadata": {},
   "outputs": [],
   "source": [
    "def CreateDataset(csvfile, label_func):\n",
    "    \n",
    "    # Get the size of the dataset\n",
    "    data = pd.read_csv(csvfile)\n",
    "    size = data.shape[0]\n",
    "\n",
    "    full_data  = tf.contrib.data.make_csv_dataset(csvfile, batch_size=1)\n",
    "    full_data  = full_data.map(label_func, num_parallel_calls=100)\n",
    "    full_data  = full_data.map(ReadImages, num_parallel_calls=100)\n",
    "    full_data  = SetDatasetParams(full_data, size)\n",
    "\n",
    "    return full_data, size"
   ]
  },
  {
   "cell_type": "code",
   "execution_count": 12,
   "metadata": {},
   "outputs": [
    {
     "name": "stdout",
     "output_type": "stream",
     "text": [
      "WARNING:tensorflow:From <ipython-input-11-9e9f4fcd3641>:7: make_csv_dataset (from tensorflow.contrib.data.python.ops.readers) is deprecated and will be removed in a future version.\n",
      "Instructions for updating:\n",
      "Use `tf.data.experimental.make_csv_dataset(...)`.\n"
     ]
    }
   ],
   "source": [
    "dataset, size  = CreateDataset(CSV, GenderLabelFunc)"
   ]
  },
  {
   "cell_type": "code",
   "execution_count": 13,
   "metadata": {},
   "outputs": [],
   "source": [
    "def GetInitOp(dataset):\n",
    "    it = tf.data.Iterator.from_structure(dataset.output_types, dataset.output_shapes)\n",
    "    init_op = it.make_initializer(dataset)\n",
    "    return init_op, it"
   ]
  },
  {
   "cell_type": "code",
   "execution_count": 14,
   "metadata": {},
   "outputs": [],
   "source": [
    "init_op_data, it_data = GetInitOp(dataset)"
   ]
  },
  {
   "cell_type": "code",
   "execution_count": 15,
   "metadata": {},
   "outputs": [],
   "source": [
    "def GetNumBatchesPerEpoch(size):\n",
    "    num_batches = int(size//BATCH_SIZE)\n",
    "    return num_batches"
   ]
  },
  {
   "cell_type": "code",
   "execution_count": 16,
   "metadata": {},
   "outputs": [],
   "source": [
    "num_batches = GetNumBatchesPerEpoch(size)"
   ]
  },
  {
   "cell_type": "code",
   "execution_count": 17,
   "metadata": {},
   "outputs": [],
   "source": [
    "def GetAgeFromBin(bin_val):\n",
    "    return AGE_MIN + (bin_val*BIN_SIZE)"
   ]
  },
  {
   "cell_type": "code",
   "execution_count": 18,
   "metadata": {},
   "outputs": [],
   "source": [
    "def ShowImages(imgs, age, GetLabel):\n",
    "    high = imgs.eval().shape[0]\n",
    "    print(high)\n",
    "    idx = np.random.randint(low=1, high=high, size=2)\n",
    "    plt.figure(figsize=(8, 8))\n",
    "\n",
    "    plt.subplot(121)\n",
    "    curr_img = np.asarray(imgs[idx[0]].eval(), dtype=np.uint8)\n",
    "    curr_lbl = age[idx[0]].eval()\n",
    "\n",
    "    plt.imshow(curr_img)\n",
    "    plt.title(\"(Label: {lbl})\".format(lbl=GetLabel(curr_lbl)))\n",
    "\n",
    "    plt.subplot(122)\n",
    "    curr_img = np.asarray(imgs[idx[1]].eval(), dtype=np.uint8)\n",
    "    curr_lbl = age[idx[1]].eval()\n",
    "    plt.imshow(curr_img, cmap=\"gray\")\n",
    "    plt.title(\"(Label: {lbl})\".format(lbl=GetLabel(curr_lbl)))"
   ]
  },
  {
   "cell_type": "code",
   "execution_count": 19,
   "metadata": {},
   "outputs": [],
   "source": [
    "def CheckAgeDataset(init_op, it):\n",
    "    with tf.Session() as sess:\n",
    "        sess.run(init_op)\n",
    "        elem = it.get_next()\n",
    "        ShowImages(elem[\"name\"], elem[\"age\"], GetAgeFromBin)"
   ]
  },
  {
   "cell_type": "code",
   "execution_count": 20,
   "metadata": {},
   "outputs": [],
   "source": [
    "#CheckAgeDataset(init_op_data, it_data)"
   ]
  },
  {
   "cell_type": "code",
   "execution_count": 21,
   "metadata": {},
   "outputs": [],
   "source": [
    "def GetGenFromBin(bin_val):\n",
    "    if bin_val == 1:\n",
    "        return \"male\"\n",
    "    else:\n",
    "        return \"female\""
   ]
  },
  {
   "cell_type": "code",
   "execution_count": 22,
   "metadata": {},
   "outputs": [],
   "source": [
    "def CheckGenDataset(init_op, it):\n",
    "    with tf.Session() as sess:\n",
    "        sess.run(init_op)\n",
    "        elem = it.get_next()\n",
    "        ShowImages(elem[\"name\"], elem[\"gender\"], GetGenFromBin)"
   ]
  },
  {
   "cell_type": "code",
   "execution_count": 23,
   "metadata": {},
   "outputs": [],
   "source": [
    "#CheckGenDataset(init_op_data, it_data)"
   ]
  },
  {
   "cell_type": "code",
   "execution_count": 24,
   "metadata": {},
   "outputs": [],
   "source": [
    "def conv2d(x, W, b, strides=1):\n",
    "    strides_ = [1, strides, strides, 1]\n",
    "    x = tf.nn.conv2d(x, W, strides=strides_, padding='SAME')\n",
    "    x = tf.nn.bias_add(x, b)\n",
    "    return tf.nn.relu(x)"
   ]
  },
  {
   "cell_type": "code",
   "execution_count": 25,
   "metadata": {},
   "outputs": [],
   "source": [
    "def maxpool2d(x, k=2):\n",
    "    ksize_ = [1, k, k, 1]\n",
    "    strides_ = [1, k, k, 1]\n",
    "    return tf.nn.max_pool(x, ksize_, strides_, padding='SAME')"
   ]
  },
  {
   "cell_type": "code",
   "execution_count": 26,
   "metadata": {},
   "outputs": [],
   "source": [
    "VAL  = IMG_SIZE[0]\n",
    "FLAT = ceil(ceil(ceil(VAL/2)/2))/2"
   ]
  },
  {
   "cell_type": "code",
   "execution_count": 27,
   "metadata": {},
   "outputs": [],
   "source": [
    "weights = {\n",
    "    'wc1': tf.get_variable('W0', shape=(3, 3, 3, 32), initializer=tf.contrib.layers.xavier_initializer()),\n",
    "    'wc2': tf.get_variable('W1', shape=(3, 3, 32, 64), initializer=tf.contrib.layers.xavier_initializer()),\n",
    "    'wc3': tf.get_variable('W2', shape=(3, 3, 64, 128), initializer=tf.contrib.layers.xavier_initializer()),\n",
    "    'wd1': tf.get_variable('W3', shape=(FLAT*FLAT*128, 128), initializer=tf.contrib.layers.xavier_initializer()),\n",
    "    'age': tf.get_variable('W4', shape=(128, NUM_CLASSES_AGE), initializer=tf.contrib.layers.xavier_initializer()),\n",
    "    'gen': tf.get_variable('W5', shape=(128, NUM_CLASSES_GEN), initializer=tf.contrib.layers.xavier_initializer())\n",
    "}\n",
    "\n",
    "biases = {\n",
    "    'bc1': tf.get_variable('B0', shape=(32), initializer=tf.contrib.layers.xavier_initializer()),\n",
    "    'bc2': tf.get_variable('B1', shape=(64), initializer=tf.contrib.layers.xavier_initializer()),\n",
    "    'bc3': tf.get_variable('B2', shape=(128), initializer=tf.contrib.layers.xavier_initializer()),\n",
    "    'bd1': tf.get_variable('B3', shape=(128), initializer=tf.contrib.layers.xavier_initializer()),\n",
    "    'age': tf.get_variable('B4', shape=(NUM_CLASSES_AGE), initializer=tf.contrib.layers.xavier_initializer()),\n",
    "    'gen': tf.get_variable('B5', shape=(NUM_CLASSES_GEN), initializer=tf.contrib.layers.xavier_initializer())\n",
    "}"
   ]
  },
  {
   "cell_type": "code",
   "execution_count": 28,
   "metadata": {},
   "outputs": [],
   "source": [
    "load_dir = 'checkpoints-alpha-2-extreme-bias/'\n",
    "\n",
    "if not os.path.exists(load_dir):\n",
    "    print(\"[INFO] Checkpoint directory doesn't exist.\")\n",
    "    \n",
    "load_path = os.path.join(load_dir, 'best_validation')"
   ]
  },
  {
   "cell_type": "code",
   "execution_count": 29,
   "metadata": {},
   "outputs": [],
   "source": [
    "#checkpoint = tf.train.latest_checkpoint(load_dir)\n",
    "#print_tensors_in_checkpoint_file(checkpoint, all_tensors=True, tensor_name='')"
   ]
  },
  {
   "cell_type": "code",
   "execution_count": 30,
   "metadata": {},
   "outputs": [],
   "source": [
    "def GetFeatureVector(x, weights, biases):\n",
    "    \n",
    "    conv1 = conv2d(x, weights['wc1'], biases['bc1'])\n",
    "    conv1 = maxpool2d(conv1, k=2) \n",
    "    \n",
    "    conv2 = conv2d(conv1, weights['wc2'], biases['bc2'])\n",
    "    conv2 = maxpool2d(conv2, k=2)\n",
    "    \n",
    "    conv3 = conv2d(conv2, weights['wc3'], biases['bc3'])\n",
    "    conv3 = maxpool2d(conv3, k=2)\n",
    "    \n",
    "    fc1 = tf.reshape(conv3, [-1, weights['wd1'].get_shape().as_list()[0]])\n",
    "    fc1 = tf.add(tf.matmul(fc1, weights['wd1']), biases['bd1'])\n",
    "    fc1 = tf.nn.relu(fc1)\n",
    "    \n",
    "    return fc1"
   ]
  },
  {
   "cell_type": "code",
   "execution_count": 31,
   "metadata": {},
   "outputs": [],
   "source": [
    "# feature_vecs[i] shape will be (BATCH_SIZE, 128)\n",
    "feature_vecs = []\n",
    "\n",
    "# labels[i] will have shape\n",
    "labels = []"
   ]
  },
  {
   "cell_type": "code",
   "execution_count": 32,
   "metadata": {},
   "outputs": [],
   "source": [
    "# Running one batch from the dataset through the network.\n",
    "# Getting the one dimensional feature vector out.\n",
    "\n",
    "elem = it_data.get_next()\n",
    "x = elem[\"name\"]\n",
    "y = elem[\"gender\"]\n",
    "feature_vec = GetFeatureVector(x, weights, biases)"
   ]
  },
  {
   "cell_type": "code",
   "execution_count": 33,
   "metadata": {},
   "outputs": [],
   "source": [
    "# Running this op will initialize weights and biases\n",
    "init_op = tf.global_variables_initializer()\n",
    "saver = tf.train.Saver()"
   ]
  },
  {
   "cell_type": "code",
   "execution_count": 34,
   "metadata": {},
   "outputs": [],
   "source": [
    "def GenerateFeatureVectors(sess):\n",
    "    print(\"[INFO] Generating feature vectors from the model.\")\n",
    "    \n",
    "    saver.restore(sess=sess, save_path=load_path)\n",
    "    sess.run(init_op_data)\n",
    "    \n",
    "    for i in range(num_batches):\n",
    "        vec, label = sess.run([feature_vec, y])\n",
    "        feature_vecs.append(vec)\n",
    "        labels.append(label)\n",
    "        \n",
    "        print(\"[INFO] Finished passing batch #{} \".format(i))"
   ]
  },
  {
   "cell_type": "code",
   "execution_count": 35,
   "metadata": {
    "scrolled": true
   },
   "outputs": [
    {
     "name": "stdout",
     "output_type": "stream",
     "text": [
      "[INFO] Generating feature vectors from the model.\n",
      "INFO:tensorflow:Restoring parameters from checkpoints-alpha-2-extreme-bias/best_validation\n",
      "[INFO] Finished passing batch #0 \n",
      "[INFO] Finished passing batch #1 \n",
      "[INFO] Finished passing batch #2 \n",
      "[INFO] Finished passing batch #3 \n",
      "[INFO] Finished passing batch #4 \n",
      "[INFO] Finished passing batch #5 \n",
      "[INFO] Finished passing batch #6 \n",
      "[INFO] Finished passing batch #7 \n",
      "[INFO] Finished passing batch #8 \n",
      "[INFO] Finished passing batch #9 \n",
      "[INFO] Finished passing batch #10 \n",
      "[INFO] Finished passing batch #11 \n",
      "[INFO] Finished passing batch #12 \n",
      "[INFO] Finished passing batch #13 \n",
      "[INFO] Finished passing batch #14 \n",
      "[INFO] Finished passing batch #15 \n",
      "[INFO] Finished passing batch #16 \n",
      "[INFO] Finished passing batch #17 \n",
      "[INFO] Finished passing batch #18 \n",
      "[INFO] Finished passing batch #19 \n",
      "[INFO] Finished passing batch #20 \n",
      "[INFO] Finished passing batch #21 \n",
      "[INFO] Finished passing batch #22 \n",
      "[INFO] Finished passing batch #23 \n",
      "[INFO] Finished passing batch #24 \n",
      "[INFO] Finished passing batch #25 \n",
      "[INFO] Finished passing batch #26 \n",
      "[INFO] Finished passing batch #27 \n",
      "[INFO] Finished passing batch #28 \n"
     ]
    }
   ],
   "source": [
    "with tf.Session() as sess:\n",
    "    GenerateFeatureVectors(sess)"
   ]
  },
  {
   "cell_type": "code",
   "execution_count": 36,
   "metadata": {},
   "outputs": [],
   "source": [
    "def GenerateTSV(vecs, file):\n",
    "    with open(file, 'wt') as out_file:\n",
    "        tsv_writer = csv.writer(out_file, delimiter='\\t')\n",
    "    \n",
    "        # batch.shape=(BATCH_SIZE, 128)\n",
    "        for batch in vecs:\n",
    "            for i in range(BATCH_SIZE):\n",
    "                row = batch[i].tolist()\n",
    "                if isinstance(row, int):  \n",
    "                    tsv_writer.writerow([row])\n",
    "                else:\n",
    "                    tsv_writer.writerow(row)"
   ]
  },
  {
   "cell_type": "code",
   "execution_count": 37,
   "metadata": {},
   "outputs": [],
   "source": [
    "file = 'vec-alpha-2-extreme-bias-balanced-.tsv'\n",
    "GenerateTSV(feature_vecs, file)\n",
    "\n",
    "file = 'lbl-alpha-2-extreme-bias-balanced.tsv'\n",
    "GenerateTSV(labels, file)"
   ]
  }
 ],
 "metadata": {
  "kernelspec": {
   "display_name": "Python 3",
   "language": "python",
   "name": "python3"
  },
  "language_info": {
   "codemirror_mode": {
    "name": "ipython",
    "version": 3
   },
   "file_extension": ".py",
   "mimetype": "text/x-python",
   "name": "python",
   "nbconvert_exporter": "python",
   "pygments_lexer": "ipython3",
   "version": "3.5.3"
  }
 },
 "nbformat": 4,
 "nbformat_minor": 2
}
